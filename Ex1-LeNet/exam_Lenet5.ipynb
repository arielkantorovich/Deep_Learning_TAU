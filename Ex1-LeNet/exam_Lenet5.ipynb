{
 "cells": [
  {
   "cell_type": "markdown",
   "metadata": {},
   "source": [
    "# Import Relevant Librys"
   ]
  },
  {
   "cell_type": "code",
   "execution_count": 2,
   "metadata": {},
   "outputs": [],
   "source": [
    "import matplotlib.pyplot as plt\n",
    "import numpy as np\n",
    "import torch\n",
    "import torch.nn as nn\n",
    "import torch.optim as optim\n",
    "from torch.utils.data import DataLoader, TensorDataset\n",
    "import torch.nn.functional as F\n",
    "from sklearn.model_selection import train_test_split\n",
    "import torch.nn.init as init\n",
    "import torch.nn.functional as F\n",
    "from torchvision import datasets, transforms\n",
    "from torch.utils.data.sampler import SubsetRandomSampler"
   ]
  },
  {
   "cell_type": "markdown",
   "metadata": {},
   "source": [
    "# Load Cuda device if exist "
   ]
  },
  {
   "cell_type": "code",
   "execution_count": 3,
   "metadata": {},
   "outputs": [
    {
     "name": "stdout",
     "output_type": "stream",
     "text": [
      "cuda\n"
     ]
    }
   ],
   "source": [
    "device = (\"cuda\" if torch.cuda.is_available() else \"cpu\")\n",
    "print(device)"
   ]
  },
  {
   "cell_type": "markdown",
   "metadata": {},
   "source": [
    "# Load and transform MNIST Data set"
   ]
  },
  {
   "cell_type": "code",
   "execution_count": 8,
   "metadata": {},
   "outputs": [
    {
     "data": {
      "text/plain": [
       "(Dataset FashionMNIST\n",
       "     Number of datapoints: 60000\n",
       "     Root location: F_MNIST_data\n",
       "     Split: Train\n",
       "     StandardTransform\n",
       " Transform: Compose(\n",
       "                Resize(size=(32, 32), interpolation=bilinear, max_size=None, antialias=None)\n",
       "                ToTensor()\n",
       "            ),\n",
       " Dataset FashionMNIST\n",
       "     Number of datapoints: 10000\n",
       "     Root location: F_MNIST_data\n",
       "     Split: Test\n",
       "     StandardTransform\n",
       " Transform: Compose(\n",
       "                Resize(size=(32, 32), interpolation=bilinear, max_size=None, antialias=None)\n",
       "                ToTensor()\n",
       "            ))"
      ]
     },
     "execution_count": 8,
     "metadata": {},
     "output_type": "execute_result"
    }
   ],
   "source": [
    "down_flag = False # (Optional) usually false\n",
    "\n",
    "# # Define a transform to normalize the data\n",
    "transform = transforms.Compose([transforms.Resize((32,32)),\n",
    "                                transforms.ToTensor()])\n",
    "# Download and load the training data\n",
    "train_data = datasets.FashionMNIST('F_MNIST_data', download=down_flag, train=True, transform=transform)\n",
    "# Download and load the test data\n",
    "test_data = datasets.FashionMNIST('F_MNIST_data', download=down_flag, train=False, transform=transform)\n",
    "\n",
    "train_data, test_data"
   ]
  },
  {
   "cell_type": "markdown",
   "metadata": {},
   "source": [
    "# Pre-Processing data (Normalization)"
   ]
  },
  {
   "cell_type": "code",
   "execution_count": 12,
   "metadata": {},
   "outputs": [
    {
     "data": {
      "text/plain": [
       "(tensor([2.7593e-08]), tensor([1.]))"
      ]
     },
     "execution_count": 12,
     "metadata": {},
     "output_type": "execute_result"
    }
   ],
   "source": [
    "# Calculate mean and std\n",
    "imgs = torch.stack([img for img, _ in train_data], dim=0)\n",
    "\n",
    "mean = imgs.view(1, -1).mean(dim=1)    # or imgs.mean()\n",
    "std = imgs.view(1, -1).std(dim=1)     # or imgs.std()\n",
    "mean, std"
   ]
  },
  {
   "cell_type": "code",
   "execution_count": 11,
   "metadata": {},
   "outputs": [
    {
     "data": {
      "text/plain": [
       "(Dataset FashionMNIST\n",
       "     Number of datapoints: 60000\n",
       "     Root location: F_MNIST_data\n",
       "     Split: Train\n",
       "     StandardTransform\n",
       " Transform: Compose(\n",
       "                Resize(size=(32, 32), interpolation=bilinear, max_size=None, antialias=None)\n",
       "                ToTensor()\n",
       "                Normalize(mean=tensor([0.2856]), std=tensor([0.3385]))\n",
       "            ),\n",
       " Dataset FashionMNIST\n",
       "     Number of datapoints: 10000\n",
       "     Root location: F_MNIST_data\n",
       "     Split: Test\n",
       "     StandardTransform\n",
       " Transform: Compose(\n",
       "                Resize(size=(32, 32), interpolation=bilinear, max_size=None, antialias=None)\n",
       "                ToTensor()\n",
       "                Normalize(mean=tensor([0.2856]), std=tensor([0.3385]))\n",
       "            ))"
      ]
     },
     "execution_count": 11,
     "metadata": {},
     "output_type": "execute_result"
    }
   ],
   "source": [
    "down_flag = False # (Optional) usually false\n",
    "\n",
    "# # Define a transform to normalize the data\n",
    "transform = transforms.Compose([transforms.Resize((32,32)),\n",
    "                                transforms.ToTensor(),\n",
    "                                transforms.Normalize(mean=mean, std=std)])\n",
    "# Download and load the training data\n",
    "train_data = datasets.FashionMNIST('F_MNIST_data', download=down_flag, train=True, transform=transform)\n",
    "# Download and load the test data\n",
    "test_data = datasets.FashionMNIST('F_MNIST_data', download=down_flag, train=False, transform=transform)\n",
    "\n",
    "train_data, test_data"
   ]
  },
  {
   "cell_type": "markdown",
   "metadata": {},
   "source": [
    "# Iterating and Visualizing the Dataset"
   ]
  },
  {
   "cell_type": "code",
   "execution_count": 13,
   "metadata": {},
   "outputs": [
    {
     "data": {
      "image/png": "[encoded data removed]",
      "text/plain": [
       "<Figure size 500x500 with 9 Axes>"
      ]
     },
     "metadata": {},
     "output_type": "display_data"
    }
   ],
   "source": [
    "import matplotlib.pyplot as plt\n",
    "%matplotlib inline\n",
    "\n",
    "labels_map={\n",
    "    0: 'T-shirt',\n",
    "    1: 'Trouser',\n",
    "    2: 'Pullover',\n",
    "    3: 'Dress',\n",
    "    4: 'Coat',\n",
    "    5: 'Sandal',\n",
    "    6: 'Shirt',\n",
    "    7: 'Sneaker',\n",
    "    8: 'Bag',\n",
    "    9: 'Ankle Boot',\n",
    "}\n",
    "\n",
    "figure = plt.figure(figsize = (5,5))\n",
    "cols, rows = 3, 3\n",
    "\n",
    "for i in range (1, cols*rows + 1):\n",
    "    sample_idx = torch.randint(len(train_data), size = (1,)).item()\n",
    "    image, label = train_data[sample_idx]\n",
    "    figure.add_subplot(rows, cols, i)\n",
    "    plt.title(labels_map[label])\n",
    "    plt.axis('off')\n",
    "    plt.imshow(image.squeeze(), cmap='gray')\n",
    "plt.show()"
   ]
  },
  {
   "cell_type": "markdown",
   "metadata": {},
   "source": [
    "Split to train and valid in addition prepare dataloader for training"
   ]
  },
  {
   "cell_type": "code",
   "execution_count": 16,
   "metadata": {},
   "outputs": [],
   "source": [
    "# Hyper-parameters\n",
    "batch_size = 64\n",
    "valid_size = 0.2\n",
    "\n",
    "# Prepare valid \n",
    "num_train = len(train_data)\n",
    "indices = list(range(num_train))\n",
    "np.random.shuffle(indices)\n",
    "split = int(np.floor(valid_size * num_train))\n",
    "\n",
    "train_idx, valid_idx = indices[split:], indices[:split]\n",
    "\n",
    "# define samplers for obtaining training and validation batches\n",
    "train_sample = SubsetRandomSampler(train_idx)\n",
    "valid_sample = SubsetRandomSampler(valid_idx)\n",
    "\n",
    "\n",
    "# Data Loader\n",
    "train_loader = torch.utils.data.DataLoader(train_data, sampler=train_sample, batch_size=batch_size)\n",
    "valid_loader = torch.utils.data.DataLoader(train_data, sampler=valid_sample, batch_size=batch_size)\n",
    "test_loader = torch.utils.data.DataLoader(test_data, batch_size=batch_size, shuffle=True)"
   ]
  },
  {
   "cell_type": "markdown",
   "metadata": {},
   "source": [
    "# Build LeNet5 "
   ]
  },
  {
   "cell_type": "code",
   "execution_count": 23,
   "metadata": {},
   "outputs": [],
   "source": [
    "class LeNet5(nn.Module):\n",
    "    def __init__(self, useDrop=False, useBatchNorm=False):\n",
    "        super(LeNet5, self).__init__()\n",
    "        # Define Configuration Param\n",
    "        self.useDrop = useDrop\n",
    "        self.useBatchNorm = useBatchNorm\n",
    "        # Define NN elements \n",
    "        self.pool = nn.MaxPool2d(kernel_size=2, stride=2)\n",
    "        self.conv1 = nn.Conv2d(in_channels=1, out_channels=6, kernel_size=5, stride=1, padding=0)\n",
    "        self.conv2 = nn.Conv2d(in_channels=6, out_channels=16, kernel_size=5, stride=1, padding=0)\n",
    "        self.Linear1 = nn.Linear(in_features=16 * 5 * 5, out_features=120)\n",
    "        self.linear2 = nn.Linear(in_features=120, out_features=84)\n",
    "        self.linear3 = nn.Linear(in_features=84, out_features=10)\n",
    "\n",
    "\n",
    "        if self.useBatchNorm:\n",
    "            self.bn1 = nn.BatchNorm2d(6)\n",
    "            self.bn2 = nn.BatchNorm2d(16)\n",
    "\n",
    "        if self.useDrop:\n",
    "            self.dropout = nn.Dropout(p=0.3)\n",
    "\n",
    "    def forward(self, x):\n",
    "        # Layer 1\n",
    "        x = self.conv1(x)\n",
    "        if self.useBatchNorm:\n",
    "            x = self.bn1(x)\n",
    "        x = self.pool(F.relu(x))\n",
    "        # Layer 2\n",
    "        x = self.conv2(x)\n",
    "        if self.useBatchNorm:\n",
    "            x = self.bn2(x)\n",
    "        x = self.pool(F.relu(x))\n",
    "        # Layer 3\n",
    "        x = x.view(x.size(0), -1) # Flatten the input tensor\n",
    "        x = F.relu(self.Linear1(x))\n",
    "        # Layer 4\n",
    "        if self.useDrop:\n",
    "            x = self.dropout(x)\n",
    "        x = F.relu(self.linear2(x))\n",
    "        # Layer 5 output \n",
    "        x = self.linear3(x)\n",
    "\n",
    "        return x\n"
   ]
  },
  {
   "cell_type": "markdown",
   "metadata": {},
   "source": [
    "# Train Loop"
   ]
  },
  {
   "cell_type": "code",
   "execution_count": 24,
   "metadata": {},
   "outputs": [],
   "source": [
    "def TrainLoop(train_loader, \n",
    "              valid_loader, \n",
    "              useDrop=False, useBatchNorm=False, use_Weight_decay=False,\n",
    "              num_epochs=10,\n",
    "              lr_init=0.001,\n",
    "              PATH = './LeNet5.pth'):\n",
    "    #Initalize gpu\n",
    "    device = torch.device(\"cuda\" if torch.cuda.is_available() else \"cpu\")\n",
    "    # Define the model\n",
    "    model = LeNet5(useDrop=False, useBatchNorm=False)\n",
    "    print(model)\n",
    "    model.to(device)\n",
    "\n",
    "    # Define Optimizer\n",
    "    if use_Weight_decay:\n",
    "        l2_reg = 0.0001\n",
    "    else:\n",
    "        l2_reg = 0.0\n",
    "    optimizer = optim.Adam(model.parameters(), lr=lr_init, betas=(0.9, 0.999), weight_decay=l2_reg)\n",
    "\n",
    "    # Define creterion cross entropy \n",
    "    criterion = nn.CrossEntropyLoss()\n",
    "\n",
    "    # define lists to store losses and accuracies\n",
    "    train_losses = []\n",
    "    val_losses = []\n",
    "    train_accs = []\n",
    "    val_accs = []\n",
    "\n",
    "    # Start Train Loop\n",
    "    for epoch in range(num_epochs):\n",
    "        model.train()\n",
    "        # initialize variables to store the loss and accuracy\n",
    "        train_loss = 0.0\n",
    "        train_correct = 0\n",
    "        for batch_idx, (data, target) in enumerate(train_loader):\n",
    "            data, target = data.to(device), target.to(device)\n",
    "            # Zero grad\n",
    "            optimizer.zero_grad()\n",
    "            # Foward-prop\n",
    "            output = model(data)\n",
    "            # Calc loss\n",
    "            loss = criterion(output, target)\n",
    "            # backward pass\n",
    "            loss.backward()\n",
    "            # update the parameters\n",
    "            optimizer.step()\n",
    "\n",
    "            # calculate the accuracy\n",
    "            train_correct += (output.argmax(1) == target).type(torch.float).sum().item()\n",
    "\n",
    "            # add the batch loss to the epoch loss\n",
    "            train_loss += loss.item()\n",
    "\n",
    "        # calculate the average loss and accuracy for the epoch\n",
    "        train_loss /= len(train_loader)\n",
    "        train_acc = train_correct / len(train_loader.dataset)\n",
    "\n",
    "        # set the network to evaluation mode\n",
    "        model.eval()\n",
    "        # initialize variables to store the loss and accuracy\n",
    "        val_loss = 0.0\n",
    "        val_correct = 0\n",
    "        with torch.no_grad():\n",
    "            for batch_idx, (data, target) in enumerate(valid_loader):\n",
    "                # send the data and target to the device (CPU or GPU)\n",
    "                data, target = data.to(device), target.to(device)\n",
    "\n",
    "                # forward pass\n",
    "                output = model(data)\n",
    "\n",
    "                # calculate the loss\n",
    "                loss = criterion(output, target)\n",
    "\n",
    "                # calculate the accuracy\n",
    "                val_correct += (output.argmax(1) == target).type(torch.float).sum().item()\n",
    "\n",
    "                # add the batch loss to the epoch loss\n",
    "                val_loss += loss.item()\n",
    "\n",
    "        # calculate the average loss and accuracy for the epoch\n",
    "        val_loss /= len(valid_loader)\n",
    "        val_acc = val_correct / len(valid_loader.dataset)\n",
    "        # print the losses and accuracies for the epoch\n",
    "        print('Epoch [{}/{}], Train Loss: {:.4f}, Train Acc: {:.4f}, Val Loss: {:.4f}, Val Acc: {:.4f}'\n",
    "            .format(epoch+1, num_epochs, train_loss, train_acc, val_loss, val_acc))\n",
    "\n",
    "        # store the losses and accuracies for plotting\n",
    "        train_losses.append(train_loss)\n",
    "        val_losses.append(val_loss)\n",
    "        train_accs.append(train_acc)\n",
    "        val_accs.append(val_acc)\n",
    "\n",
    "    # Finally save weights\n",
    "    torch.save(model.state_dict(), PATH)\n",
    "    # return results for ploting\n",
    "    return train_losses, val_losses, train_accs, val_accs"
   ]
  },
  {
   "cell_type": "markdown",
   "metadata": {},
   "source": [
    "Run simple try without any batchnorm or dropout"
   ]
  },
  {
   "cell_type": "code",
   "execution_count": 25,
   "metadata": {},
   "outputs": [
    {
     "name": "stdout",
     "output_type": "stream",
     "text": [
      "LeNet5(\n",
      "  (pool): MaxPool2d(kernel_size=2, stride=2, padding=0, dilation=1, ceil_mode=False)\n",
      "  (conv1): Conv2d(1, 6, kernel_size=(5, 5), stride=(1, 1))\n",
      "  (conv2): Conv2d(6, 16, kernel_size=(5, 5), stride=(1, 1))\n",
      "  (Linear1): Linear(in_features=400, out_features=120, bias=True)\n",
      "  (linear2): Linear(in_features=120, out_features=84, bias=True)\n",
      "  (linear3): Linear(in_features=84, out_features=10, bias=True)\n",
      ")\n",
      "Epoch [1/30], Train Loss: 0.5627, Train Acc: 0.6315, Val Loss: 0.4810, Val Acc: 0.1631\n",
      "Epoch [2/30], Train Loss: 0.4258, Train Acc: 0.6748, Val Loss: 0.3688, Val Acc: 0.1734\n",
      "Epoch [3/30], Train Loss: 0.3980, Train Acc: 0.6836, Val Loss: 0.3700, Val Acc: 0.1722\n",
      "Epoch [4/30], Train Loss: 0.3744, Train Acc: 0.6895, Val Loss: 0.3856, Val Acc: 0.1719\n",
      "Epoch [5/30], Train Loss: 0.3759, Train Acc: 0.6906, Val Loss: 0.3906, Val Acc: 0.1722\n",
      "Epoch [6/30], Train Loss: 0.3590, Train Acc: 0.6958, Val Loss: 0.3912, Val Acc: 0.1714\n",
      "Epoch [7/30], Train Loss: 0.3567, Train Acc: 0.6968, Val Loss: 0.3929, Val Acc: 0.1726\n",
      "Epoch [8/30], Train Loss: 0.3456, Train Acc: 0.7009, Val Loss: 0.3910, Val Acc: 0.1731\n",
      "Epoch [9/30], Train Loss: 0.3428, Train Acc: 0.7007, Val Loss: 0.3825, Val Acc: 0.1729\n",
      "Epoch [10/30], Train Loss: 0.3381, Train Acc: 0.7028, Val Loss: 0.3658, Val Acc: 0.1747\n",
      "Epoch [11/30], Train Loss: 0.3344, Train Acc: 0.7051, Val Loss: 0.3710, Val Acc: 0.1730\n",
      "Epoch [12/30], Train Loss: 0.3575, Train Acc: 0.6992, Val Loss: 0.3524, Val Acc: 0.1749\n",
      "Epoch [13/30], Train Loss: 0.3421, Train Acc: 0.7040, Val Loss: 0.3857, Val Acc: 0.1719\n",
      "Epoch [14/30], Train Loss: 0.3333, Train Acc: 0.7042, Val Loss: 0.4049, Val Acc: 0.1719\n",
      "Epoch [15/30], Train Loss: 0.3263, Train Acc: 0.7062, Val Loss: 0.3845, Val Acc: 0.1739\n",
      "Epoch [16/30], Train Loss: 0.3362, Train Acc: 0.7051, Val Loss: 0.4801, Val Acc: 0.1686\n",
      "Epoch [17/30], Train Loss: 0.3256, Train Acc: 0.7063, Val Loss: 0.3880, Val Acc: 0.1739\n",
      "Epoch [18/30], Train Loss: 0.3247, Train Acc: 0.7079, Val Loss: 0.3919, Val Acc: 0.1744\n",
      "Epoch [19/30], Train Loss: 0.3108, Train Acc: 0.7124, Val Loss: 0.3792, Val Acc: 0.1756\n",
      "Epoch [20/30], Train Loss: 0.3288, Train Acc: 0.7085, Val Loss: 0.3856, Val Acc: 0.1750\n",
      "Epoch [21/30], Train Loss: 0.3468, Train Acc: 0.7043, Val Loss: 0.4116, Val Acc: 0.1734\n",
      "Epoch [22/30], Train Loss: 0.3222, Train Acc: 0.7093, Val Loss: 0.3871, Val Acc: 0.1756\n",
      "Epoch [23/30], Train Loss: 0.3267, Train Acc: 0.7087, Val Loss: 0.4597, Val Acc: 0.1721\n",
      "Epoch [24/30], Train Loss: 0.3236, Train Acc: 0.7090, Val Loss: 0.6099, Val Acc: 0.1655\n",
      "Epoch [25/30], Train Loss: 0.3654, Train Acc: 0.7008, Val Loss: 0.4001, Val Acc: 0.1714\n",
      "Epoch [26/30], Train Loss: 0.3295, Train Acc: 0.7077, Val Loss: 0.4071, Val Acc: 0.1723\n",
      "Epoch [27/30], Train Loss: 0.3140, Train Acc: 0.7115, Val Loss: 0.7299, Val Acc: 0.1673\n",
      "Epoch [28/30], Train Loss: 0.3587, Train Acc: 0.7028, Val Loss: 0.3707, Val Acc: 0.1766\n",
      "Epoch [29/30], Train Loss: 0.3026, Train Acc: 0.7159, Val Loss: 0.4047, Val Acc: 0.1735\n",
      "Epoch [30/30], Train Loss: 0.3209, Train Acc: 0.7101, Val Loss: 0.3836, Val Acc: 0.1746\n"
     ]
    }
   ],
   "source": [
    "train_losses_simple, val_losses_simple, train_accs_simple, val_accs_simple = TrainLoop(train_loader, \n",
    "                                                                                        valid_loader, \n",
    "                                                                                        useDrop=False, useBatchNorm=False, use_Weight_decay=False,\n",
    "                                                                                        num_epochs=30,\n",
    "                                                                                        lr_init=0.01,\n",
    "                                                                                        PATH = './LeNet5(simple).pth')"
   ]
  },
  {
   "cell_type": "code",
   "execution_count": null,
   "metadata": {},
   "outputs": [],
   "source": []
  }
 ],
 "metadata": {
  "kernelspec": {
   "display_name": "Thesis-Kantorovich",
   "language": "python",
   "name": "python3"
  },
  "language_info": {
   "codemirror_mode": {
    "name": "ipython",
    "version": 3
   },
   "file_extension": ".py",
   "mimetype": "text/x-python",
   "name": "python",
   "nbconvert_exporter": "python",
   "pygments_lexer": "ipython3",
   "version": "3.8.18"
  }
 },
 "nbformat": 4,
 "nbformat_minor": 2
}
