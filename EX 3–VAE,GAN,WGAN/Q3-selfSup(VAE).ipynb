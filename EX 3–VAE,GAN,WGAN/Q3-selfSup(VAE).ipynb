{
 "cells": [
  {
   "cell_type": "markdown",
   "source": [
    "# EX3 - VAE, GAN, WGAN <br>\n",
    "by: Ariel Kantorovich <br>"
   ],
   "metadata": {
    "collapsed": false,
    "id": "TQAqgDLd2puq"
   }
  },
  {
   "cell_type": "code",
   "source": [
    "!nvidia-smi"
   ],
   "metadata": {
    "colab": {
     "base_uri": "https://localhost:8080/"
    },
    "id": "98QD1bV82rJC",
    "outputId": "0c4716fb-46de-4afb-eb80-4bf826385c98"
   },
   "execution_count": 1,
   "outputs": [
    {
     "output_type": "stream",
     "name": "stdout",
     "text": [
      "Tue Feb 27 13:57:43 2024       \n",
      "+---------------------------------------------------------------------------------------+\n",
      "| NVIDIA-SMI 535.104.05             Driver Version: 535.104.05   CUDA Version: 12.2     |\n",
      "|-----------------------------------------+----------------------+----------------------+\n",
      "| GPU  Name                 Persistence-M | Bus-Id        Disp.A | Volatile Uncorr. ECC |\n",
      "| Fan  Temp   Perf          Pwr:Usage/Cap |         Memory-Usage | GPU-Util  Compute M. |\n",
      "|                                         |                      |               MIG M. |\n",
      "|=========================================+======================+======================|\n",
      "|   0  Tesla T4                       Off | 00000000:00:04.0 Off |                    0 |\n",
      "| N/A   42C    P8               9W /  70W |      0MiB / 15360MiB |      0%      Default |\n",
      "|                                         |                      |                  N/A |\n",
      "+-----------------------------------------+----------------------+----------------------+\n",
      "                                                                                         \n",
      "+---------------------------------------------------------------------------------------+\n",
      "| Processes:                                                                            |\n",
      "|  GPU   GI   CI        PID   Type   Process name                            GPU Memory |\n",
      "|        ID   ID                                                             Usage      |\n",
      "|=======================================================================================|\n",
      "|  No running processes found                                                           |\n",
      "+---------------------------------------------------------------------------------------+\n"
     ]
    }
   ]
  },
  {
   "cell_type": "markdown",
   "source": [
    "# Import Relevant Librys"
   ],
   "metadata": {
    "collapsed": false,
    "id": "5gMKFZNv2puz"
   }
  },
  {
   "cell_type": "code",
   "execution_count": 1,
   "outputs": [],
   "source": [
    "import matplotlib.pyplot as plt\n",
    "import numpy as np\n",
    "import torch\n",
    "import torch.nn as nn\n",
    "import torch.optim as optim\n",
    "from torch.utils.data import DataLoader, TensorDataset\n",
    "from torchvision import datasets, transforms\n",
    "from sklearn import svm\n",
    "from sklearn.metrics import accuracy_score"
   ],
   "metadata": {
    "id": "qsl6r4nK2pu3"
   }
  },
  {
   "cell_type": "markdown",
   "source": [
    "# Load Cuda device if exist"
   ],
   "metadata": {
    "collapsed": false,
    "id": "YOI-a1LY2pu6"
   }
  },
  {
   "cell_type": "code",
   "execution_count": 2,
   "outputs": [
    {
     "name": "stdout",
     "output_type": "stream",
     "text": [
      "cpu\n"
     ]
    }
   ],
   "source": [
    "device = (\"cuda\" if torch.cuda.is_available() else \"cpu\")\n",
    "print(device)"
   ],
   "metadata": {
    "colab": {
     "base_uri": "https://localhost:8080/"
    },
    "id": "2FRXiCfH2pu7",
    "outputId": "70c82011-0a9c-43ae-ac6d-c286a65ea5f7"
   }
  },
  {
   "cell_type": "markdown",
   "source": [
    "# Load and transform MNIST Data set"
   ],
   "metadata": {
    "collapsed": false,
    "id": "pbReQ2HX2pu9"
   }
  },
  {
   "cell_type": "code",
   "execution_count": 3,
   "outputs": [
    {
     "data": {
      "text/plain": "(Dataset FashionMNIST\n     Number of datapoints: 60000\n     Root location: F_MNIST_data\n     Split: Train\n     StandardTransform\n Transform: Compose(\n                ToTensor()\n            ),\n Dataset FashionMNIST\n     Number of datapoints: 10000\n     Root location: F_MNIST_data\n     Split: Test\n     StandardTransform\n Transform: Compose(\n                ToTensor()\n            ))"
     },
     "execution_count": 3,
     "metadata": {},
     "output_type": "execute_result"
    }
   ],
   "source": [
    "down_flag = False # (Optional) usually false\n",
    "\n",
    "# # Define a transform to normalize the data\n",
    "transform = transforms.Compose([transforms.ToTensor()])\n",
    "# Download and load the training data\n",
    "train_data = datasets.FashionMNIST('F_MNIST_data', download=down_flag, train=True, transform=transform)\n",
    "# Download and load the test data\n",
    "test_data = datasets.FashionMNIST('F_MNIST_data', download=down_flag, train=False, transform=transform)\n",
    "\n",
    "train_data, test_data"
   ],
   "metadata": {
    "colab": {
     "base_uri": "https://localhost:8080/"
    },
    "id": "KWxH2iWe2pu9",
    "outputId": "80dbd951-b882-4e0f-bc59-3f248780bce7"
   }
  },
  {
   "cell_type": "markdown",
   "source": [
    "# Iterating and Visualizing the Dataset"
   ],
   "metadata": {
    "collapsed": false,
    "id": "BmNcbYVR2pu-"
   }
  },
  {
   "cell_type": "code",
   "execution_count": 4,
   "outputs": [
    {
     "data": {
      "text/plain": "<Figure size 500x500 with 9 Axes>",
      "image/png": "[encoded data removed]"
     },
     "metadata": {},
     "output_type": "display_data"
    }
   ],
   "source": [
    "labels_map={\n",
    "    0: 'T-shirt',\n",
    "    1: 'Trouser',\n",
    "    2: 'Pullover',\n",
    "    3: 'Dress',\n",
    "    4: 'Coat',\n",
    "    5: 'Sandal',\n",
    "    6: 'Shirt',\n",
    "    7: 'Sneaker',\n",
    "    8: 'Bag',\n",
    "    9: 'Ankle Boot',\n",
    "}\n",
    "\n",
    "figure = plt.figure(figsize = (5,5))\n",
    "cols, rows = 3, 3\n",
    "\n",
    "for i in range (1, cols*rows + 1):\n",
    "    sample_idx = torch.randint(len(train_data), size = (1,)).item()\n",
    "    image, label = train_data[sample_idx]\n",
    "    figure.add_subplot(rows, cols, i)\n",
    "    plt.title(labels_map[label])\n",
    "    plt.axis('off')\n",
    "    plt.imshow(image.squeeze(), cmap='gray')\n",
    "plt.show()"
   ],
   "metadata": {
    "colab": {
     "base_uri": "https://localhost:8080/",
     "height": 444
    },
    "id": "0BhbwFXk2pu-",
    "outputId": "a4383da1-87d8-42aa-8550-d12afaf274f1"
   }
  },
  {
   "cell_type": "markdown",
   "source": [
    "Split to train and valid in addition prepare dataloader for training"
   ],
   "metadata": {
    "collapsed": false,
    "id": "IYu8V1Bp2pu_"
   }
  },
  {
   "cell_type": "code",
   "execution_count": 6,
   "outputs": [],
   "source": [
    "# Hyper-parameters\n",
    "batch_size = 128\n",
    "valid_size = 0.2\n",
    "# Data Loader\n",
    "train_loader = torch.utils.data.DataLoader(train_data, batch_size=batch_size, shuffle=True)\n",
    "valid_loader = torch.utils.data.DataLoader(test_data, batch_size=batch_size, shuffle=True)"
   ],
   "metadata": {
    "id": "tYDzxInk2pvA"
   }
  },
  {
   "cell_type": "markdown",
   "source": [
    "# Question 3 - VAE"
   ],
   "metadata": {
    "collapsed": false,
    "id": "iH1sNj2w2pvB"
   }
  },
  {
   "cell_type": "code",
   "execution_count": 5,
   "outputs": [],
   "source": [
    "class DownBlock(nn.Module):\n",
    "    def __init__(self, in_ch, out_ch):\n",
    "        # Define Parameters\n",
    "        kernel_size = 3\n",
    "        padding = 0\n",
    "        stride = 1\n",
    "        super().__init__()\n",
    "        self.model = nn.Sequential(nn.Conv2d(in_ch, out_ch, kernel_size, stride, padding),\n",
    "                                   nn.BatchNorm2d(out_ch),\n",
    "                                   nn.ReLU(),\n",
    "                                   nn.MaxPool2d(2))\n",
    "    def forward(self, x):\n",
    "        return self.model(x)"
   ],
   "metadata": {
    "id": "uZHQe6Ei2pvB"
   }
  },
  {
   "cell_type": "code",
   "execution_count": 6,
   "outputs": [],
   "source": [
    "class UpBlock(nn.Module):\n",
    "    def __init__(self, in_ch, out_ch):\n",
    "        # Define Prameters\n",
    "        kernel_size = 3\n",
    "        padding = 1\n",
    "        stride = 2\n",
    "        out_pad = 1\n",
    "        super().__init__()\n",
    "        self.model = nn.Sequential(nn.ConvTranspose2d(in_ch, out_ch, kernel_size, stride, padding, out_pad),\n",
    "                                   nn.BatchNorm2d(out_ch),\n",
    "                                   nn.ReLU())\n",
    "    def forward(self, x):\n",
    "        return self.model(x)"
   ],
   "metadata": {
    "id": "tTc3LJ5M2pvC"
   }
  },
  {
   "cell_type": "code",
   "execution_count": 7,
   "outputs": [],
   "source": [
    "class VAE(nn.Module):\n",
    "    def __init__(self):\n",
    "        super().__init__()\n",
    "        # Define Parameters\n",
    "        IMG_ch = 1\n",
    "        latent_image_size = 7\n",
    "        down_ch = (IMG_ch, 32, 64)\n",
    "        up_ch = down_ch[::-1]\n",
    "        hidden_dim = 500\n",
    "        latent_dim = 100\n",
    "        # Encoder Part:\n",
    "        self.down_1 = DownBlock(in_ch=down_ch[0], out_ch=down_ch[1])\n",
    "        self.down_2 = DownBlock(in_ch=down_ch[1], out_ch=down_ch[2])\n",
    "        # Embedding\n",
    "        self.to_vec = nn.Sequential(nn.Flatten(), nn.ReLU())\n",
    "        self.embed = nn.Sequential(nn.Linear(in_features=5*5*down_ch[2], out_features=hidden_dim),\n",
    "                                   nn.ReLU(),\n",
    "                                   nn.Linear(in_features=hidden_dim, out_features=hidden_dim),\n",
    "                                   nn.ReLU()\n",
    "        )\n",
    "        # Q(Z | X) ~ z, for reprmtirezation trick\n",
    "        self.mu_fc = nn.Linear(in_features=hidden_dim, out_features=latent_dim)\n",
    "        self.logvar_fc = nn.Linear(hidden_dim, out_features=latent_dim)\n",
    "\n",
    "        # Decoder Part\n",
    "        self.up_0 = nn.Sequential(nn.Linear(in_features=latent_dim, out_features=latent_image_size * latent_image_size * up_ch[0]),\n",
    "                                  nn.ReLU(),\n",
    "                                  nn.Unflatten(1, (up_ch[0], latent_image_size, latent_image_size)))\n",
    "        self.up_1 = UpBlock(in_ch=up_ch[0], out_ch=up_ch[1])\n",
    "        self.up_2 = UpBlock(in_ch=up_ch[1], out_ch=up_ch[2])\n",
    "\n",
    "    def forward(self, x):\n",
    "        # Encoder Part\n",
    "        x = self.down_1(x)\n",
    "        x = self.down_2(x)\n",
    "        x = self.to_vec(x)\n",
    "        x = self.embed(x)\n",
    "        # Sampling z ~ Q(Z | X)\n",
    "        mu = self.mu_fc(x)\n",
    "        var = self.logvar_fc(x)\n",
    "        epsilon = torch.rand_like(mu)\n",
    "        z = mu + var * epsilon # Reparameterization Trick\n",
    "        # Decoder part\n",
    "        x = self.up_0(z)\n",
    "        x = self.up_1(x)\n",
    "        x = self.up_2(x)\n",
    "        # Final Activation\n",
    "        x = torch.sigmoid(x)\n",
    "        return x, mu, var"
   ],
   "metadata": {
    "id": "T-LlZmiK2pvC"
   }
  },
  {
   "cell_type": "markdown",
   "source": [
    "Define Loss function: <br>\n",
    "$$\\log p_{\\theta}(x) \\geq \\mathbb{E}_{q_{\\phi}(z|x)}[\\log p_{\\theta}(x|z)] - \\text{KL}[q_{\\phi}(z|x) || p_{\\theta}(z)] = -J(x)$$ where: $\\mathbb{E}_{q_{\\phi}(z|x)}[\\log p_{\\theta}(x|z)] = \\mathbb{E}_{N(0,I)} \\log p_{\\theta}(x|\\mu_{\\phi}(x) + \\sigma_{\\phi}(x))$"
   ],
   "metadata": {
    "collapsed": false,
    "id": "eGj9BARf2pvD"
   }
  },
  {
   "cell_type": "code",
   "execution_count": 8,
   "outputs": [],
   "source": [
    "def loss_function(x, x_hat, mean, log_var):\n",
    "    reproduction_loss = nn.functional.binary_cross_entropy(x_hat, x, reduction='mean')\n",
    "    KLD = - 0.5 * torch.sum(1+ log_var - mean.pow(2) - log_var.exp())\n",
    "    return reproduction_loss + KLD"
   ],
   "metadata": {
    "id": "N1tZwJNe2pvE"
   }
  },
  {
   "cell_type": "markdown",
   "source": [
    "Train loop:"
   ],
   "metadata": {
    "collapsed": false,
    "id": "_n8vBjnf2pvE"
   }
  },
  {
   "cell_type": "code",
   "execution_count": 9,
   "outputs": [],
   "source": [
    "def TrainLoop(model, optimizer, NUM_EPOCHS, train_data, test_data, PATH):\n",
    "    \"\"\"\n",
    "    :param model:\n",
    "    :param optimizer:\n",
    "    :param NUM_EPOCHS\n",
    "    :param train_data:\n",
    "    :param test_data:\n",
    "    :param PATH:\n",
    "    :return:\n",
    "    \"\"\"\n",
    "    train_loss_list, test_loss_list = [], []\n",
    "    for epoch in range(NUM_EPOCHS):\n",
    "        model.train()\n",
    "        train_loss = 0.0\n",
    "        for x, _ in train_data:\n",
    "            x = x.to(device)\n",
    "            # Zero Optimizer\n",
    "            optimizer.zero_grad()\n",
    "            # Forward propgation\n",
    "            x_hat, mu, var = model(x)\n",
    "            # Calculate loss\n",
    "            loss = loss_function(x, x_hat, mu, var)\n",
    "            train_loss += loss.item()\n",
    "            # Back Prop\n",
    "            loss.backward()\n",
    "            # Update Grad\n",
    "            optimizer.step()\n",
    "\n",
    "        # Check Test Error Valid\n",
    "        model.eval()\n",
    "        test_loss = 0.0\n",
    "        for x, _ in test_data:\n",
    "            x = x.to(device)\n",
    "            optimizer.zero_grad()\n",
    "            x_hat, mu, var = model(x)\n",
    "            loss = loss_function(x, x_hat, mu, var)\n",
    "            test_loss += loss.item()\n",
    "\n",
    "        # Save and print results\n",
    "        train_loss_list.append(train_loss)\n",
    "        test_loss_list.append(test_loss)\n",
    "        print('Epoch [{}/{}], Train Loss: {:.4f}, Val Loss: {:.4f}'\n",
    "                  .format(epoch+1, NUM_EPOCHS, train_loss, test_loss))\n",
    "    # Finally, save weights\n",
    "    torch.save(model.state_dict(), PATH)\n",
    "    return train_loss_list, test_loss_list"
   ],
   "metadata": {
    "id": "069Oho3w2pvF"
   }
  },
  {
   "cell_type": "code",
   "execution_count": 51,
   "outputs": [
    {
     "output_type": "stream",
     "name": "stdout",
     "text": [
      "Epoch [1/100], Train Loss: 757.1287, Val Loss: 55.5613\n",
      "Epoch [2/100], Train Loss: 328.1211, Val Loss: 55.0289\n",
      "Epoch [3/100], Train Loss: 326.0022, Val Loss: 54.8007\n",
      "Epoch [4/100], Train Loss: 325.1473, Val Loss: 54.7230\n",
      "Epoch [5/100], Train Loss: 324.7460, Val Loss: 54.6835\n",
      "Epoch [6/100], Train Loss: 324.5529, Val Loss: 54.6595\n",
      "Epoch [7/100], Train Loss: 324.4409, Val Loss: 54.6475\n",
      "Epoch [8/100], Train Loss: 324.3798, Val Loss: 54.6416\n",
      "Epoch [9/100], Train Loss: 324.3416, Val Loss: 54.6332\n",
      "Epoch [10/100], Train Loss: 324.3284, Val Loss: 54.6332\n",
      "Epoch [11/100], Train Loss: 324.3178, Val Loss: 54.6306\n",
      "Epoch [12/100], Train Loss: 324.2420, Val Loss: 54.0397\n",
      "Epoch [13/100], Train Loss: 314.1533, Val Loss: 53.1365\n",
      "Epoch [14/100], Train Loss: 309.7766, Val Loss: 52.8725\n",
      "Epoch [15/100], Train Loss: 308.0767, Val Loss: 51.9359\n",
      "Epoch [16/100], Train Loss: 307.3317, Val Loss: 51.7698\n",
      "Epoch [17/100], Train Loss: 306.5950, Val Loss: 51.7146\n",
      "Epoch [18/100], Train Loss: 306.1785, Val Loss: 51.6661\n",
      "Epoch [19/100], Train Loss: 305.9192, Val Loss: 51.6074\n",
      "Epoch [20/100], Train Loss: 305.6521, Val Loss: 51.4752\n",
      "Epoch [21/100], Train Loss: 305.5199, Val Loss: 51.5874\n",
      "Epoch [22/100], Train Loss: 305.3778, Val Loss: 51.5840\n",
      "Epoch [23/100], Train Loss: 305.2333, Val Loss: 51.4117\n",
      "Epoch [24/100], Train Loss: 305.0712, Val Loss: 51.3713\n",
      "Epoch [25/100], Train Loss: 304.9774, Val Loss: 51.3459\n",
      "Epoch [26/100], Train Loss: 304.8836, Val Loss: 51.8161\n",
      "Epoch [27/100], Train Loss: 304.6861, Val Loss: 51.3232\n",
      "Epoch [28/100], Train Loss: 304.6402, Val Loss: 51.4173\n",
      "Epoch [29/100], Train Loss: 306.0299, Val Loss: 51.5273\n",
      "Epoch [30/100], Train Loss: 304.8535, Val Loss: 51.3744\n",
      "Epoch [31/100], Train Loss: 304.5324, Val Loss: 51.3700\n",
      "Epoch [32/100], Train Loss: 304.3453, Val Loss: 51.3502\n",
      "Epoch [33/100], Train Loss: 304.2784, Val Loss: 51.2844\n",
      "Epoch [34/100], Train Loss: 304.1949, Val Loss: 51.2269\n",
      "Epoch [35/100], Train Loss: 304.1584, Val Loss: 51.2057\n",
      "Epoch [36/100], Train Loss: 303.9836, Val Loss: 51.1694\n",
      "Epoch [37/100], Train Loss: 303.9198, Val Loss: 51.2669\n",
      "Epoch [38/100], Train Loss: 303.8942, Val Loss: 51.2089\n",
      "Epoch [39/100], Train Loss: 303.7688, Val Loss: 51.2787\n",
      "Epoch [40/100], Train Loss: 303.7064, Val Loss: 51.5354\n",
      "Epoch [41/100], Train Loss: 303.7786, Val Loss: 51.3821\n",
      "Epoch [42/100], Train Loss: 303.6350, Val Loss: 51.5354\n",
      "Epoch [43/100], Train Loss: 303.6100, Val Loss: 51.2253\n",
      "Epoch [44/100], Train Loss: 303.5406, Val Loss: 51.1445\n",
      "Epoch [45/100], Train Loss: 303.4855, Val Loss: 51.1953\n",
      "Epoch [46/100], Train Loss: 303.4398, Val Loss: 51.1974\n",
      "Epoch [47/100], Train Loss: 303.3874, Val Loss: 51.1228\n",
      "Epoch [48/100], Train Loss: 303.3144, Val Loss: 51.2122\n",
      "Epoch [49/100], Train Loss: 303.3716, Val Loss: 51.1254\n",
      "Epoch [50/100], Train Loss: 303.2851, Val Loss: 51.2180\n",
      "Epoch [51/100], Train Loss: 303.2027, Val Loss: 51.1441\n",
      "Epoch [52/100], Train Loss: 303.2411, Val Loss: 51.2055\n",
      "Epoch [53/100], Train Loss: 303.1808, Val Loss: 51.1466\n",
      "Epoch [54/100], Train Loss: 303.1066, Val Loss: 51.1995\n",
      "Epoch [55/100], Train Loss: 303.0841, Val Loss: 51.2251\n",
      "Epoch [56/100], Train Loss: 303.1556, Val Loss: 51.6904\n",
      "Epoch [57/100], Train Loss: 303.1504, Val Loss: 51.0679\n",
      "Epoch [58/100], Train Loss: 303.0458, Val Loss: 51.0598\n",
      "Epoch [59/100], Train Loss: 303.0268, Val Loss: 51.4479\n",
      "Epoch [60/100], Train Loss: 303.0863, Val Loss: 51.5033\n",
      "Epoch [61/100], Train Loss: 303.0372, Val Loss: 51.1560\n",
      "Epoch [62/100], Train Loss: 302.9881, Val Loss: 51.1227\n",
      "Epoch [63/100], Train Loss: 302.9760, Val Loss: 51.0802\n",
      "Epoch [64/100], Train Loss: 302.9674, Val Loss: 51.3698\n",
      "Epoch [65/100], Train Loss: 302.9804, Val Loss: 51.1200\n",
      "Epoch [66/100], Train Loss: 302.8786, Val Loss: 51.1358\n",
      "Epoch [67/100], Train Loss: 302.8925, Val Loss: 51.1303\n",
      "Epoch [68/100], Train Loss: 302.9086, Val Loss: 51.0668\n",
      "Epoch [69/100], Train Loss: 302.8557, Val Loss: 51.2254\n",
      "Epoch [70/100], Train Loss: 302.8469, Val Loss: 51.1302\n",
      "Epoch [71/100], Train Loss: 302.8506, Val Loss: 51.0794\n",
      "Epoch [72/100], Train Loss: 302.8429, Val Loss: 51.2022\n",
      "Epoch [73/100], Train Loss: 302.7963, Val Loss: 51.0357\n",
      "Epoch [74/100], Train Loss: 302.7692, Val Loss: 51.1367\n",
      "Epoch [75/100], Train Loss: 302.7521, Val Loss: 51.2073\n",
      "Epoch [76/100], Train Loss: 302.7514, Val Loss: 51.3073\n",
      "Epoch [77/100], Train Loss: 302.7320, Val Loss: 51.1116\n",
      "Epoch [78/100], Train Loss: 302.7169, Val Loss: 51.0459\n",
      "Epoch [79/100], Train Loss: 302.7352, Val Loss: 51.0619\n",
      "Epoch [80/100], Train Loss: 302.6994, Val Loss: 51.1161\n",
      "Epoch [81/100], Train Loss: 302.7188, Val Loss: 51.0903\n",
      "Epoch [82/100], Train Loss: 302.6439, Val Loss: 51.1138\n",
      "Epoch [83/100], Train Loss: 302.6924, Val Loss: 51.2675\n",
      "Epoch [84/100], Train Loss: 302.6843, Val Loss: 51.0491\n",
      "Epoch [85/100], Train Loss: 302.6228, Val Loss: 51.1527\n",
      "Epoch [86/100], Train Loss: 302.6604, Val Loss: 51.1325\n",
      "Epoch [87/100], Train Loss: 302.5805, Val Loss: 51.0235\n",
      "Epoch [88/100], Train Loss: 302.6090, Val Loss: 51.0446\n",
      "Epoch [89/100], Train Loss: 302.6187, Val Loss: 51.0116\n",
      "Epoch [90/100], Train Loss: 302.5667, Val Loss: 50.9888\n",
      "Epoch [91/100], Train Loss: 302.5803, Val Loss: 51.0130\n",
      "Epoch [92/100], Train Loss: 302.5074, Val Loss: 51.0949\n",
      "Epoch [93/100], Train Loss: 302.5908, Val Loss: 51.3138\n",
      "Epoch [94/100], Train Loss: 302.5177, Val Loss: 51.0471\n",
      "Epoch [95/100], Train Loss: 302.4778, Val Loss: 51.1584\n",
      "Epoch [96/100], Train Loss: 302.5456, Val Loss: 51.1467\n",
      "Epoch [97/100], Train Loss: 302.5247, Val Loss: 51.0857\n",
      "Epoch [98/100], Train Loss: 302.5120, Val Loss: 51.0063\n",
      "Epoch [99/100], Train Loss: 302.4729, Val Loss: 51.0482\n",
      "Epoch [100/100], Train Loss: 302.4817, Val Loss: 51.0497\n"
     ]
    }
   ],
   "source": [
    "NUM_EPOCHS = 100\n",
    "BATCH = batch_size\n",
    "lr = 0.01\n",
    "model = VAE().to(device)\n",
    "optimizer = optim.Adam(model.parameters(), lr=lr)\n",
    "train_loss, test_loss = TrainLoop(model, optimizer, NUM_EPOCHS, train_loader, valid_loader, \"./VAE_weights.pth\")"
   ],
   "metadata": {
    "colab": {
     "base_uri": "https://localhost:8080/"
    },
    "id": "3TRulHC82pvG",
    "outputId": "ce3c4e1b-9dcb-47cf-dc15-c852dd2a63c8"
   }
  },
  {
   "cell_type": "markdown",
   "source": [
    "Plot results"
   ],
   "metadata": {
    "id": "zGIiUJr_C657"
   }
  },
  {
   "cell_type": "code",
   "source": [
    "iteration = np.arange(NUM_EPOCHS)\n",
    "plt.plot(iteration, train_loss, label=\"Train loss\"), plt.plot(iteration, test_loss, label=\"Test loss\"),\n",
    "plt.legend(), plt.xlabel(\"# Iteration\"), plt.ylabel(\"Loss\"), plt.show()"
   ],
   "metadata": {
    "colab": {
     "base_uri": "https://localhost:8080/",
     "height": 522
    },
    "id": "xry20GiD3aZ-",
    "outputId": "029cbfaa-50bd-4ca3-8b09-27965289ecb1"
   },
   "execution_count": 52,
   "outputs": [
    {
     "output_type": "display_data",
     "data": {
      "text/plain": [
       "<Figure size 640x480 with 1 Axes>"
      ],
      "image/png": "[encoded data removed]"
     },
     "metadata": {}
    },
    {
     "output_type": "execute_result",
     "data": {
      "text/plain": [
       "(<matplotlib.legend.Legend at 0x798120110d60>,\n",
       " Text(0.5, 24.0, '# Iteration'),\n",
       " Text(24.000000000000007, 0.5, 'Loss'),\n",
       " None)"
      ]
     },
     "metadata": {},
     "execution_count": 52
    }
   ]
  },
  {
   "cell_type": "markdown",
   "source": [
    "# Apply SVM classifier Part"
   ],
   "metadata": {
    "collapsed": false
   }
  },
  {
   "cell_type": "markdown",
   "source": [
    "First let's load the model"
   ],
   "metadata": {
    "collapsed": false
   }
  },
  {
   "cell_type": "code",
   "source": [
    "# Create an instance of your VAE model\n",
    "model = VAE()\n",
    "\n",
    "# Load the trained weights from the file (assuming it's a state_dict)\n",
    "weights_path = 'VAE_weights.pth'\n",
    "device = torch.device(device)  # Set device to CPU\n",
    "model.load_state_dict(torch.load(weights_path, map_location=device))\n",
    "\n",
    "# Move the loaded model to the CPU\n",
    "model.to(device)"
   ],
   "metadata": {
    "id": "TLQNwoJfDfp-"
   },
   "execution_count": 16,
   "outputs": [
    {
     "data": {
      "text/plain": "VAE(\n  (down_1): DownBlock(\n    (model): Sequential(\n      (0): Conv2d(1, 32, kernel_size=(3, 3), stride=(1, 1))\n      (1): BatchNorm2d(32, eps=1e-05, momentum=0.1, affine=True, track_running_stats=True)\n      (2): ReLU()\n      (3): MaxPool2d(kernel_size=2, stride=2, padding=0, dilation=1, ceil_mode=False)\n    )\n  )\n  (down_2): DownBlock(\n    (model): Sequential(\n      (0): Conv2d(32, 64, kernel_size=(3, 3), stride=(1, 1))\n      (1): BatchNorm2d(64, eps=1e-05, momentum=0.1, affine=True, track_running_stats=True)\n      (2): ReLU()\n      (3): MaxPool2d(kernel_size=2, stride=2, padding=0, dilation=1, ceil_mode=False)\n    )\n  )\n  (to_vec): Sequential(\n    (0): Flatten(start_dim=1, end_dim=-1)\n    (1): ReLU()\n  )\n  (embed): Sequential(\n    (0): Linear(in_features=1600, out_features=500, bias=True)\n    (1): ReLU()\n    (2): Linear(in_features=500, out_features=500, bias=True)\n    (3): ReLU()\n  )\n  (mu_fc): Linear(in_features=500, out_features=100, bias=True)\n  (logvar_fc): Linear(in_features=500, out_features=100, bias=True)\n  (up_0): Sequential(\n    (0): Linear(in_features=100, out_features=3136, bias=True)\n    (1): ReLU()\n    (2): Unflatten(dim=1, unflattened_size=(64, 7, 7))\n  )\n  (up_1): UpBlock(\n    (model): Sequential(\n      (0): ConvTranspose2d(64, 32, kernel_size=(3, 3), stride=(2, 2), padding=(1, 1), output_padding=(1, 1))\n      (1): BatchNorm2d(32, eps=1e-05, momentum=0.1, affine=True, track_running_stats=True)\n      (2): ReLU()\n    )\n  )\n  (up_2): UpBlock(\n    (model): Sequential(\n      (0): ConvTranspose2d(32, 1, kernel_size=(3, 3), stride=(2, 2), padding=(1, 1), output_padding=(1, 1))\n      (1): BatchNorm2d(1, eps=1e-05, momentum=0.1, affine=True, track_running_stats=True)\n      (2): ReLU()\n    )\n  )\n)"
     },
     "execution_count": 16,
     "metadata": {},
     "output_type": "execute_result"
    }
   ]
  },
  {
   "cell_type": "code",
   "execution_count": 15,
   "outputs": [],
   "source": [
    "def extract_features(loader):\n",
    "    features = []\n",
    "    labels = []\n",
    "    with torch.no_grad():\n",
    "        for data, target in loader:\n",
    "            data = data.to(device)\n",
    "            # Forward pass through the encoder part of the VAE\n",
    "            x = model.down_1(data)\n",
    "            x = model.down_2(x)\n",
    "            x = model.to_vec(x)\n",
    "            x = model.embed(x)\n",
    "            # Extract mu and log_var from the latent space\n",
    "            mu = model.mu_fc(x)\n",
    "            log_var = model.logvar_fc(x)\n",
    "            # Concatenate mu and log_var as features\n",
    "            features.append(torch.cat((mu, log_var), dim=1).cpu().numpy())\n",
    "            labels.append(target.numpy())\n",
    "    features = np.concatenate(features, axis=0)\n",
    "    labels = np.concatenate(labels)\n",
    "    return features, labels"
   ],
   "metadata": {
    "collapsed": false
   }
  },
  {
   "cell_type": "code",
   "execution_count": 18,
   "outputs": [],
   "source": [
    "def Train_SVM(num_samples, train_data, test_data):\n",
    "    train_loader = torch.utils.data.DataLoader(train_data, batch_size=num_samples, shuffle=True)\n",
    "    train_features, train_labels = extract_features(train_loader)\n",
    "    # Train an SVM classifier\n",
    "    svm_classifier = svm.SVC(kernel='rbf')\n",
    "    svm_classifier.fit(train_features, train_labels)\n",
    "\n",
    "    # Test the SVM classifier\n",
    "    test_loader = torch.utils.data.DataLoader(test_data, batch_size=len(test_data), shuffle=False)\n",
    "    test_features, test_labels = extract_features(test_loader)\n",
    "    predicted_labels = svm_classifier.predict(test_features)\n",
    "    accuracy = accuracy_score(test_labels, predicted_labels)\n",
    "    print(\"Accuracy:\", accuracy)\n",
    "    return svm_classifier, accuracy"
   ],
   "metadata": {
    "collapsed": false
   }
  },
  {
   "cell_type": "code",
   "execution_count": 19,
   "outputs": [
    {
     "name": "stdout",
     "output_type": "stream",
     "text": [
      "Accuracy: 0.8091\n",
      "Accuracy: 0.8127\n",
      "Accuracy: 0.8131\n",
      "Accuracy: 0.8139\n"
     ]
    }
   ],
   "source": [
    "# Load Fashion MNIST dataset\n",
    "transform = transforms.Compose([transforms.ToTensor()])\n",
    "train_data = datasets.FashionMNIST('F_MNIST_data', download=down_flag, train=True, transform=transform)\n",
    "test_data = datasets.FashionMNIST('F_MNIST_data', download=down_flag, train=False, transform=transform)\n",
    "\n",
    "svm100, acc_100 = Train_SVM(100, train_data, test_data)\n",
    "svm_600, acc_600 = Train_SVM(600, train_data, test_data)\n",
    "svm_1000, acc_1000 = Train_SVM(1000, train_data, test_data)\n",
    "svm_3000, acc_3000 = Train_SVM(3000, train_data, test_data)"
   ],
   "metadata": {
    "collapsed": false
   }
  },
  {
   "cell_type": "markdown",
   "source": [
    "Save results"
   ],
   "metadata": {
    "collapsed": false
   }
  },
  {
   "cell_type": "code",
   "execution_count": 20,
   "outputs": [
    {
     "data": {
      "text/plain": "['svm_model(3000).joblib']"
     },
     "execution_count": 20,
     "metadata": {},
     "output_type": "execute_result"
    }
   ],
   "source": [
    "from joblib import dump, load\n",
    "\n",
    "# Assuming svm is your trained SVM model\n",
    "dump(svm100, 'svm_model(100).joblib')\n",
    "dump(svm_600, 'svm_model(600).joblib')\n",
    "dump(svm_1000, 'svm_model(1000).joblib')\n",
    "dump(svm_3000, 'svm_model(3000).joblib')"
   ],
   "metadata": {
    "collapsed": false
   }
  },
  {
   "cell_type": "markdown",
   "source": [
    "# Test Results"
   ],
   "metadata": {
    "collapsed": false
   }
  },
  {
   "cell_type": "markdown",
   "source": [
    "First Let's Load NN model ans SVM model"
   ],
   "metadata": {
    "collapsed": false
   }
  },
  {
   "cell_type": "code",
   "execution_count": 10,
   "outputs": [
    {
     "data": {
      "text/plain": "VAE(\n  (down_1): DownBlock(\n    (model): Sequential(\n      (0): Conv2d(1, 32, kernel_size=(3, 3), stride=(1, 1))\n      (1): BatchNorm2d(32, eps=1e-05, momentum=0.1, affine=True, track_running_stats=True)\n      (2): ReLU()\n      (3): MaxPool2d(kernel_size=2, stride=2, padding=0, dilation=1, ceil_mode=False)\n    )\n  )\n  (down_2): DownBlock(\n    (model): Sequential(\n      (0): Conv2d(32, 64, kernel_size=(3, 3), stride=(1, 1))\n      (1): BatchNorm2d(64, eps=1e-05, momentum=0.1, affine=True, track_running_stats=True)\n      (2): ReLU()\n      (3): MaxPool2d(kernel_size=2, stride=2, padding=0, dilation=1, ceil_mode=False)\n    )\n  )\n  (to_vec): Sequential(\n    (0): Flatten(start_dim=1, end_dim=-1)\n    (1): ReLU()\n  )\n  (embed): Sequential(\n    (0): Linear(in_features=1600, out_features=500, bias=True)\n    (1): ReLU()\n    (2): Linear(in_features=500, out_features=500, bias=True)\n    (3): ReLU()\n  )\n  (mu_fc): Linear(in_features=500, out_features=100, bias=True)\n  (logvar_fc): Linear(in_features=500, out_features=100, bias=True)\n  (up_0): Sequential(\n    (0): Linear(in_features=100, out_features=3136, bias=True)\n    (1): ReLU()\n    (2): Unflatten(dim=1, unflattened_size=(64, 7, 7))\n  )\n  (up_1): UpBlock(\n    (model): Sequential(\n      (0): ConvTranspose2d(64, 32, kernel_size=(3, 3), stride=(2, 2), padding=(1, 1), output_padding=(1, 1))\n      (1): BatchNorm2d(32, eps=1e-05, momentum=0.1, affine=True, track_running_stats=True)\n      (2): ReLU()\n    )\n  )\n  (up_2): UpBlock(\n    (model): Sequential(\n      (0): ConvTranspose2d(32, 1, kernel_size=(3, 3), stride=(2, 2), padding=(1, 1), output_padding=(1, 1))\n      (1): BatchNorm2d(1, eps=1e-05, momentum=0.1, affine=True, track_running_stats=True)\n      (2): ReLU()\n    )\n  )\n)"
     },
     "execution_count": 10,
     "metadata": {},
     "output_type": "execute_result"
    }
   ],
   "source": [
    "# Create an instance of your VAE model\n",
    "model = VAE()\n",
    "\n",
    "# Load the trained weights from the file (assuming it's a state_dict)\n",
    "weights_path = 'VAE_weights.pth'\n",
    "device = torch.device(device)  # Set device to CPU\n",
    "model.load_state_dict(torch.load(weights_path, map_location=device))\n",
    "\n",
    "# Move the loaded model to the CPU\n",
    "model.to(device)"
   ],
   "metadata": {
    "collapsed": false
   }
  },
  {
   "cell_type": "code",
   "execution_count": 13,
   "outputs": [],
   "source": [
    "from joblib import load\n",
    "\n",
    "svm_100 = load('svm_model(100).joblib')\n",
    "svm_600 = load('svm_model(600).joblib')\n",
    "svm_1000 = load('svm_model(1000).joblib')\n",
    "svm_3000 = load('svm_model(3000).joblib')"
   ],
   "metadata": {
    "collapsed": false
   }
  },
  {
   "cell_type": "code",
   "execution_count": 16,
   "outputs": [],
   "source": [
    "def Test_results(svm_classifier, test_data):\n",
    "    test_loader = torch.utils.data.DataLoader(test_data, batch_size=len(test_data), shuffle=False)\n",
    "    test_features, test_labels = extract_features(test_loader)\n",
    "    predicted_labels = svm_classifier.predict(test_features)\n",
    "    error_rate = 1 - accuracy_score(test_labels, predicted_labels)\n",
    "    return error_rate"
   ],
   "metadata": {
    "collapsed": false
   }
  },
  {
   "cell_type": "code",
   "execution_count": 17,
   "outputs": [],
   "source": [
    "error_rate_100 = Test_results(svm_100, test_data)\n",
    "error_rate_600 = Test_results(svm_600, test_data)\n",
    "error_rate_1000 = Test_results(svm_1000, test_data)\n",
    "error_rate_3000 = Test_results(svm_3000, test_data)"
   ],
   "metadata": {
    "collapsed": false
   }
  },
  {
   "cell_type": "code",
   "execution_count": 19,
   "outputs": [
    {
     "data": {
      "text/plain": "<Figure size 640x480 with 1 Axes>",
      "image/png": "[encoded data removed]"
     },
     "metadata": {},
     "output_type": "display_data"
    },
    {
     "data": {
      "text/plain": "(Text(0.5, 24.0, '# Labels'),\n Text(24.000000000000007, 0.5, '# Error Rate'),\n None)"
     },
     "execution_count": 19,
     "metadata": {},
     "output_type": "execute_result"
    }
   ],
   "source": [
    "# Plot Final Results\n",
    "num_class = [100, 600, 1000, 3000]\n",
    "my_results = [error_rate_100, error_rate_600, error_rate_1000, error_rate_3000]\n",
    "papper_results = [11.82, 5.72, 4.24, 3.49]\n",
    "\n",
    "plt.plot(num_class, papper_results, label=\"Mnist (Paper)\")\n",
    "plt.plot(num_class, my_results, label=\"Fashion Mnist (our)\")\n",
    "plt.legend()\n",
    "plt.xlabel(\"# Labels\"), plt.ylabel(\"# Error Rate\"), plt.show()"
   ],
   "metadata": {
    "collapsed": false
   }
  }
 ],
 "metadata": {
  "kernelspec": {
   "display_name": "Python 3",
   "name": "python3"
  },
  "language_info": {
   "codemirror_mode": {
    "name": "ipython",
    "version": 2
   },
   "file_extension": ".py",
   "mimetype": "text/x-python",
   "name": "python",
   "nbconvert_exporter": "python",
   "pygments_lexer": "ipython2",
   "version": "2.7.6"
  },
  "colab": {
   "provenance": [],
   "gpuType": "T4"
  },
  "accelerator": "GPU"
 },
 "nbformat": 4,
 "nbformat_minor": 0
}
