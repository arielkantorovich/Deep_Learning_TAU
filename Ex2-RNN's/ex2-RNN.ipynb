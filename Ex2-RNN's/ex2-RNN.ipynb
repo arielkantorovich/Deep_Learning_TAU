{
 "cells": [
  {
   "cell_type": "markdown",
   "metadata": {},
   "source": [
    "# Import Relevant Librys"
   ]
  },
  {
   "cell_type": "code",
   "execution_count": 1,
   "metadata": {},
   "outputs": [
    {
     "name": "stderr",
     "output_type": "stream",
     "text": [
      "/home/student/anaconda3/envs/Thesis-Kantorovich/lib/python3.8/site-packages/tqdm/auto.py:21: TqdmWarning: IProgress not found. Please update jupyter and ipywidgets. See https://ipywidgets.readthedocs.io/en/stable/user_install.html\n",
      "  from .autonotebook import tqdm as notebook_tqdm\n"
     ]
    }
   ],
   "source": [
    "import matplotlib.pyplot as plt\n",
    "import numpy as np\n",
    "import torch\n",
    "import torch.nn as nn\n",
    "import torch.optim as optim\n",
    "from torch.utils.data import DataLoader, TensorDataset\n",
    "import torch.nn.functional as F\n",
    "from sklearn.model_selection import train_test_split\n",
    "import torch.nn.init as init\n",
    "import torch.nn.functional as F\n",
    "from torchvision import datasets, transforms\n",
    "from torch.utils.data.sampler import SubsetRandomSampler"
   ]
  },
  {
   "cell_type": "markdown",
   "metadata": {},
   "source": [
    "# Load Cuda device if exist "
   ]
  },
  {
   "cell_type": "code",
   "execution_count": 2,
   "metadata": {},
   "outputs": [
    {
     "name": "stdout",
     "output_type": "stream",
     "text": [
      "cuda\n"
     ]
    }
   ],
   "source": [
    "device = (\"cuda\" if torch.cuda.is_available() else \"cpu\")\n",
    "print(device)"
   ]
  },
  {
   "cell_type": "markdown",
   "metadata": {},
   "source": [
    "# Load PTB Dataset and Pre-Processing"
   ]
  },
  {
   "cell_type": "markdown",
   "metadata": {},
   "source": [
    "Load train/valid/test and build vocublary"
   ]
  },
  {
   "cell_type": "code",
   "execution_count": 54,
   "metadata": {},
   "outputs": [],
   "source": [
    "def Data_Loader(train_path=\"PTB/ptb.train.txt\", valid_path=\"PTB/ptb.valid.txt\", test_path=\"PTB/ptb.test.txt\"):\n",
    "    with open(train_path, 'r') as f:\n",
    "        train = f.read().split(' ')[1:]\n",
    "    with open(valid_path, 'r') as f:\n",
    "        valid = f.read().split(' ')[1:]\n",
    "    with open(test_path, 'r') as f:\n",
    "        test = f.read().split(' ')[1:]\n",
    "\n",
    "    # Build vocublary\n",
    "    words = sorted(set(train))\n",
    "    char2index = {c: i for i, c in enumerate(words)}\n",
    "    # Build dataset\n",
    "    train = [char2index[char] for char in train]\n",
    "    valid = [char2index[char] for char in valid]\n",
    "    test = [char2index[char] for char in test]\n",
    "\n",
    "    # Change to numpy array\n",
    "    train = np.array(train).reshape(-1, 1)\n",
    "    valid = np.array(valid).reshape(-1, 1)\n",
    "    test = np.array(test).reshape(-1, 1)\n",
    "\n",
    "    return train, valid, test, len(words)\n",
    "\n",
    "def mini_batch(data, batch_size, seq_len):\n",
    "       data = torch.tensor(data, dtype=torch.int64)\n",
    "       num_batches = data.size(0)//batch_size\n",
    "       data = data[:num_batches*batch_size]\n",
    "       data=data.view(batch_size,-1)\n",
    "       dataset = []\n",
    "       for i in range(0,data.size(1)-1,seq_len):\n",
    "        seqlen=int(np.min([seq_len,data.size(1)-1-i]))\n",
    "        if seqlen < data.size(1)-1-i:\n",
    "            x=data[:,i:i+seqlen].transpose(1, 0)\n",
    "            y=data[:,i+1:i+seqlen+1].transpose(1, 0)\n",
    "            dataset.append((x, y))\n",
    "       return dataset"
   ]
  },
  {
   "cell_type": "markdown",
   "metadata": {},
   "source": [
    "Prepare data to train with dataloader"
   ]
  },
  {
   "cell_type": "code",
   "execution_count": null,
   "metadata": {},
   "outputs": [],
   "source": []
  },
  {
   "cell_type": "markdown",
   "metadata": {},
   "source": [
    "# Define RNN Model"
   ]
  },
  {
   "cell_type": "code",
   "execution_count": 58,
   "metadata": {},
   "outputs": [],
   "source": [
    "class My_RNN(nn.Module):\n",
    "    def __init__(self, type=\"LSTM\", vocub_size=10000, \n",
    "                 embedding_size=100, hidden_size=200, \n",
    "                 num_layer=2, target_size=10000, drop_prob=0.0):\n",
    "        super(My_RNN, self).__init__()\n",
    "        # Parameters\n",
    "        self.drop_prob = drop_prob\n",
    "        self.word_embedding = nn.Embedding(vocub_size, embedding_size)\n",
    "        if type == \"LSTM\":\n",
    "            # Hidden size = outputsize from LSTM\n",
    "            # Num layer = stack LSTM models (DEEP Models)\n",
    "            self.rnn = nn.LSTM(input_size=embedding_size, hidden_size=hidden_size, num_layers=num_layer)\n",
    "        elif type == \"GRU\":\n",
    "            self.rnn = nn.GRU(input_size=embedding_size, hidden_size=hidden_size, num_layers=num_layer)\n",
    "\n",
    "        # MLP hidden to target\n",
    "        self.hidd2targ = nn.Linear(in_features=hidden_size, out_features=target_size)\n",
    "        # Define Dropout option\n",
    "        self.DropOut = nn.Dropout(drop_prob)\n",
    "\n",
    "    def forward(self, x):\n",
    "        # One-Hot to embedding\n",
    "        x = self.word_embedding(x)\n",
    "        # apply RNN\n",
    "        x, _ = self.rnn(x)\n",
    "        if self.drop_prob > 0.0:\n",
    "            x = self.DropOut(x)\n",
    "        # Final MLP\n",
    "        x = self.hidd2targ(x)\n",
    "        \n",
    "        return x\n",
    "        \n"
   ]
  },
  {
   "cell_type": "markdown",
   "metadata": {},
   "source": [
    "# Define Train Loop"
   ]
  },
  {
   "cell_type": "code",
   "execution_count": 59,
   "metadata": {},
   "outputs": [],
   "source": [
    "# Hyper parameters\n",
    "lr = 0.001\n",
    "num_epochs = 5"
   ]
  },
  {
   "cell_type": "code",
   "execution_count": 62,
   "metadata": {},
   "outputs": [
    {
     "name": "stdout",
     "output_type": "stream",
     "text": [
      "My_RNN(\n",
      "  (word_embedding): Embedding(10000, 100)\n",
      "  (rnn): LSTM(100, 200, num_layers=2)\n",
      "  (hidd2targ): Linear(in_features=200, out_features=10000, bias=True)\n",
      "  (DropOut): Dropout(p=0.0, inplace=False)\n",
      ")\n"
     ]
    }
   ],
   "source": [
    "model = My_RNN(type=\"LSTM\", vocub_size=10000, \n",
    "                 embedding_size=100, hidden_size=200, \n",
    "                 num_layer=2, target_size=10000, drop_prob=0.0).to(device)\n",
    "\n",
    "optimizer = optim.Adam(model.parameters(), lr=0.001)\n",
    "criterion = nn.CrossEntropyLoss()\n",
    "\n",
    "print(model)\n"
   ]
  },
  {
   "cell_type": "code",
   "execution_count": null,
   "metadata": {},
   "outputs": [],
   "source": []
  }
 ],
 "metadata": {
  "kernelspec": {
   "display_name": "Thesis-Kantorovich",
   "language": "python",
   "name": "python3"
  },
  "language_info": {
   "codemirror_mode": {
    "name": "ipython",
    "version": 3
   },
   "file_extension": ".py",
   "mimetype": "text/x-python",
   "name": "python",
   "nbconvert_exporter": "python",
   "pygments_lexer": "ipython3",
   "version": "3.8.18"
  }
 },
 "nbformat": 4,
 "nbformat_minor": 2
}
